{
 "cells": [
  {
   "cell_type": "code",
   "execution_count": 5,
   "metadata": {
    "colab": {
     "base_uri": "https://localhost:8080/"
    },
    "id": "badwI5Hcgzcg",
    "outputId": "53ccb083-a2ca-41b2-af0f-3944745b0078"
   },
   "outputs": [
    {
     "data": {
      "text/plain": [
       "(        Doctor Speciality         Doctor Name  Ratings  Experience  \\\n",
       " 0  Allergy and Immunology      Dr. James Mays     1.85        5.52   \n",
       " 1  Allergy and Immunology  Dr. Paula Castillo     1.80        4.32   \n",
       " 2  Allergy and Immunology  Dr. Kristin Turner     2.27       16.94   \n",
       " 3  Allergy and Immunology  Dr. April Mcintosh     4.21        3.04   \n",
       " 4  Allergy and Immunology  Dr. Courtney Price     2.59       22.20   \n",
       " \n",
       "    Distance from Patient  Availability  Cost of Services  \n",
       " 0                   5.45             0              8.31  \n",
       " 1                  13.66             1              5.38  \n",
       " 2                  10.99             1             21.30  \n",
       " 3                   0.00             1              3.59  \n",
       " 4                  15.67             1              6.50  ,\n",
       " Index(['Doctor Speciality', 'Doctor Name', 'Ratings', 'Experience',\n",
       "        'Distance from Patient', 'Availability', 'Cost of Services'],\n",
       "       dtype='object'))"
      ]
     },
     "execution_count": 5,
     "metadata": {},
     "output_type": "execute_result"
    }
   ],
   "source": [
    "import pandas as pd\n",
    "import numpy as np\n",
    "file_path1='./doctors_data_multireward.csv'\n",
    "# data = pd.read_csv(file_path)\n",
    "data1=pd.read_csv(file_path1)\n",
    "data1.head(), data1.columns"
   ]
  },
  {
   "cell_type": "code",
   "execution_count": 6,
   "metadata": {},
   "outputs": [],
   "source": [
    "cols_drop = [\"Availability\",\"Distance from Patient\",\"Cost of Services\"]\n",
    "data1.drop(columns=cols_drop, inplace=True)\n",
    "# import matplotlib.pyplot as plt\n"
   ]
  },
  {
   "cell_type": "code",
   "execution_count": 7,
   "metadata": {},
   "outputs": [
    {
     "data": {
      "text/plain": [
       "Index(['Doctor Speciality', 'Doctor Name', 'Ratings', 'Experience'], dtype='object')"
      ]
     },
     "execution_count": 7,
     "metadata": {},
     "output_type": "execute_result"
    }
   ],
   "source": [
    "data1.columns"
   ]
  },
  {
   "cell_type": "code",
   "execution_count": 8,
   "metadata": {},
   "outputs": [
    {
     "name": "stdout",
     "output_type": "stream",
     "text": [
      "Recommended Doctors with Ratings and Experience for : ['Cardiology']\n",
      "------------------------------------------------------------\n",
      "Specilaity : Cardiology\n",
      "------------------------------------------------------------\n",
      "Doctor Name                    | Rating     | Experience\n",
      "------------------------------------------------------------\n",
      "Dr. Samuel Griffith            |       4.97 |     130.31\n",
      "Dr. Sharon Guerrero            |       3.45 |       0.13\n",
      "Dr. Shannon Henderson          |       6.83 |      86.04\n",
      "Dr. David Stevenson            |       6.09 |      68.22\n",
      "Dr. Donna Francis              |       2.59 |      10.76\n",
      "------------------------------------------------------------\n"
     ]
    }
   ],
   "source": [
    "class MultiArmedBanditExperience:\n",
    "    def __init__(self, data, epsilon=0.5, ratings_weight=0.0, experience_weight=0.0):\n",
    "        self.data = data\n",
    "        self.epsilon = epsilon\n",
    "        self.ratings_weight = ratings_weight\n",
    "        self.experience_weight = experience_weight\n",
    "        \n",
    "        # Normalize Ratings and Experience\n",
    "        self.data['Normalized Ratings'] = (self.data['Ratings'] - self.data['Ratings'].min()) / (self.data['Ratings'].max() - self.data['Ratings'].min())\n",
    "        self.data['Normalized Experience'] = (self.data['Experience'] - self.data['Experience'].min()) / (self.data['Experience'].max() - self.data['Experience'].min())\n",
    "        \n",
    "        # Compute composite scores\n",
    "        self.data['Composite Score'] = self.data['Normalized Ratings'] * self.ratings_weight + self.data['Normalized Experience'] * self.experience_weight\n",
    "\n",
    "        # Initialize dictionaries to keep track of composite scores and counts for each doctor\n",
    "        self.scores = self.data.groupby(['Doctor Speciality', 'Doctor Name'])['Composite Score'].mean().to_dict()\n",
    "        self.counts = self.data.groupby(['Doctor Speciality', 'Doctor Name'])['Composite Score'].count().to_dict()\n",
    "\n",
    "    def recommend_doctor(self, specialists):\n",
    "        recommendations = {}\n",
    "        for specialist in specialists:\n",
    "            doctors = self.data[self.data['Doctor Speciality'] == specialist]\n",
    "            if doctors.empty:\n",
    "                recommendations[specialist] = \"No doctors available for this specialty.\"\n",
    "                continue\n",
    "\n",
    "            # Sort doctors by composite score in descending order\n",
    "            sorted_doctors = doctors.sort_values(by='Composite Score', ascending=False).head(5)\n",
    "            top_doctors = []\n",
    "            recommended_names = set()  # Set to store recommended doctor names\n",
    "\n",
    "            for _ in range(5):  # Select top 5 doctors based on stochastic policy\n",
    "                if np.random.rand() < self.epsilon:  # Explore\n",
    "                    # Randomly choose a doctor\n",
    "                    recommendation = doctors.sample()\n",
    "                else:  # Exploit\n",
    "                    max_score = -np.inf\n",
    "                    for index, row in doctors.iterrows():\n",
    "                        key = (specialist, row['Doctor Name'])\n",
    "                        if self.scores[key] > max_score and row['Doctor Name'] not in recommended_names:\n",
    "                            max_score = self.scores[key]\n",
    "                            recommendation = row.to_frame().T\n",
    "                            recommended_names.add(row['Doctor Name'])  # Add doctor name to set of recommended names\n",
    "\n",
    "                doctor_name = recommendation['Doctor Name'].iloc[0]\n",
    "                doctor_rating = recommendation['Ratings'].iloc[0]\n",
    "                doctor_experience = recommendation['Experience'].iloc[0]\n",
    "                top_doctors.append((doctor_name, doctor_rating, doctor_experience))\n",
    "\n",
    "            recommendations[specialist] = top_doctors\n",
    "\n",
    "        return recommendations\n",
    "\n",
    "\n",
    "# Usage Example:\n",
    "specialists_input = input(\"Enter the list of specialists you are looking for, separated by commas: \").split(',')\n",
    "user_exp_weight = float(input(\"On a scale of 0-9, how much weight do you want to give to the doctor's experience: \")) / 10\n",
    "ratings_weight = 1 - user_exp_weight\n",
    "\n",
    "\n",
    "bandit_with_experience = MultiArmedBanditExperience(data1, ratings_weight=ratings_weight, experience_weight=user_exp_weight)\n",
    "\n",
    "results = bandit_with_experience.recommend_doctor(specialists_input)\n",
    "print(f\"Recommended Doctors with Ratings and Experience for : {specialists_input}\")\n",
    "for specialist, top_doctors in results.items():\n",
    "   \n",
    "    print(\"-\" * 60)\n",
    "    print(f\"Specilaity : {specialist}\")\n",
    "    print(\"-\" * 60)\n",
    "    print(f\"{'Doctor Name':30s} | {'Rating':10s} | {'Experience':10s}\")\n",
    "    print(\"-\" * 60)\n",
    "    for doctor in top_doctors:\n",
    "        print(f\"{doctor[0]:30s} | {doctor[1]:10.2f} | {doctor[2]:10.2f}\")\n",
    "print(\"-\" * 60)"
   ]
  },
  {
   "cell_type": "code",
   "execution_count": 9,
   "metadata": {},
   "outputs": [
    {
     "data": {
      "text/plain": [
       "['bandit.joblib']"
      ]
     },
     "execution_count": 9,
     "metadata": {},
     "output_type": "execute_result"
    }
   ],
   "source": [
    "import joblib\n",
    "from bandit_experience import MultiArmedBanditExperience\n",
    "\n",
    "# Assume data1 is already defined\n",
    "user_exp_weight = 0.7  # Example weight\n",
    "ratings_weight = 1 - user_exp_weight\n",
    "\n",
    "bandit_with_experience = MultiArmedBanditExperience(data1, ratings_weight=ratings_weight, experience_weight=user_exp_weight)\n",
    "joblib.dump(bandit_with_experience, 'bandit.joblib')\n"
   ]
  }
 ],
 "metadata": {
  "colab": {
   "provenance": []
  },
  "kernelspec": {
   "display_name": "Python 3",
   "language": "python",
   "name": "python3"
  },
  "language_info": {
   "codemirror_mode": {
    "name": "ipython",
    "version": 3
   },
   "file_extension": ".py",
   "mimetype": "text/x-python",
   "name": "python",
   "nbconvert_exporter": "python",
   "pygments_lexer": "ipython3",
   "version": "3.8.10"
  }
 },
 "nbformat": 4,
 "nbformat_minor": 1
}
